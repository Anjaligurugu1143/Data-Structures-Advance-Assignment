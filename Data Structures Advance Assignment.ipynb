{
 "cells": [
  {
   "cell_type": "markdown",
   "id": "227b0102-141e-45a0-b596-789497e1270f",
   "metadata": {},
   "source": [
    "#1. Write a code to reverse a string"
   ]
  },
  {
   "cell_type": "code",
   "execution_count": 8,
   "id": "1790b168-350e-4cdf-b555-39d23d441ac5",
   "metadata": {},
   "outputs": [
    {
     "name": "stdin",
     "output_type": "stream",
     "text": [
      "Enter any string: data science\n"
     ]
    },
    {
     "name": "stdout",
     "output_type": "stream",
     "text": [
      "The string is  data science\n",
      "ecneics atad\n"
     ]
    }
   ],
   "source": [
    "str=input(\"Enter any string:\")\n",
    "print(\"The string is \",str)\n",
    "rev=\"\"\n",
    "for i in str:\n",
    "    rev=i+rev\n",
    "print(rev)"
   ]
  },
  {
   "cell_type": "markdown",
   "id": "325e665f-b6eb-4515-8fdd-652b688cd50d",
   "metadata": {},
   "source": [
    " #2. Write a code to count the number of vowels in a string."
   ]
  },
  {
   "cell_type": "code",
   "execution_count": 6,
   "id": "cff8e052-a07c-4009-b408-ca092b30ae85",
   "metadata": {},
   "outputs": [
    {
     "name": "stdin",
     "output_type": "stream",
     "text": [
      "Enter any string: hello world\n"
     ]
    },
    {
     "name": "stdout",
     "output_type": "stream",
     "text": [
      "The string is  hello world and number of vowels is  3\n"
     ]
    }
   ],
   "source": [
    "str=input(\"Enter any string:\")\n",
    "str=str.lower()\n",
    "count=0\n",
    "for i in str:\n",
    "    if((i=='a')or(i=='e')or(i=='i')or(i=='o')or(i=='u')):\n",
    "        count=count+1\n",
    "print(\"The string is \",str,\"and number of vowels is \",count)\n"
   ]
  },
  {
   "cell_type": "markdown",
   "id": "99285b02-bd02-4b11-a227-1f88c41fa724",
   "metadata": {},
   "source": [
    "#3.  Write a code to check if a given string is a palindrome or not."
   ]
  },
  {
   "cell_type": "code",
   "execution_count": 11,
   "id": "752a8212-c435-4cee-be02-d58f4877721c",
   "metadata": {},
   "outputs": [
    {
     "name": "stdin",
     "output_type": "stream",
     "text": [
      "Enter any string: madam\n"
     ]
    },
    {
     "name": "stdout",
     "output_type": "stream",
     "text": [
      "madam is a palindrome.\n"
     ]
    }
   ],
   "source": [
    "# Palindrome means the string is same as its reverse.\n",
    "str=input(\"Enter any string:\")\n",
    "rev=\"\"\n",
    "for i in str:\n",
    "    rev=i+rev\n",
    "if str==rev:\n",
    "    print(str,\"is a palindrome.\")\n",
    "else:\n",
    "    print(str,\"is not a palindrome.\")"
   ]
  },
  {
   "cell_type": "markdown",
   "id": "18e8fe1b-b368-4848-9ab2-bf1bc28f97de",
   "metadata": {},
   "source": [
    "#4. Write a code to check if two given strings are anagrams of each other."
   ]
  },
  {
   "cell_type": "code",
   "execution_count": 15,
   "id": "28fa1844-12d1-4509-a917-2117948a5ab3",
   "metadata": {},
   "outputs": [
    {
     "name": "stdin",
     "output_type": "stream",
     "text": [
      "enter first string: listen\n",
      "enter second string: silent\n"
     ]
    },
    {
     "name": "stdout",
     "output_type": "stream",
     "text": [
      "Anagram\n"
     ]
    }
   ],
   "source": [
    "#An anagram of a string is another string that contains the same characters,only the order of characters can be different.\n",
    "str1=input(\"enter first string:\")\n",
    "str2=input(\"enter second string:\")\n",
    "anagram=sorted(str1)==sorted(str2)\n",
    "if anagram==True:\n",
    "    print(\"Anagram\")\n",
    "else:\n",
    "    print(\"Not an Anagram\")"
   ]
  },
  {
   "cell_type": "markdown",
   "id": "3587850b-110e-49c3-a3ef-f4032f6f8376",
   "metadata": {},
   "source": [
    "#5. Write a code to find all occurrences of a given substring within another string."
   ]
  },
  {
   "cell_type": "code",
   "execution_count": 19,
   "id": "e7f48e45-b008-4303-9b2f-79f68f9574f9",
   "metadata": {},
   "outputs": [
    {
     "name": "stdin",
     "output_type": "stream",
     "text": [
      "Enter a string: I am anju.I am studying e3.I am currently staying in ongole.I am a good girl.\n",
      "Enter a substring: I\n"
     ]
    },
    {
     "data": {
      "text/plain": [
       "4"
      ]
     },
     "execution_count": 19,
     "metadata": {},
     "output_type": "execute_result"
    }
   ],
   "source": [
    "str=input(\"Enter a string:\")\n",
    "substr=input(\"Enter a substring:\")\n",
    "str.count(substr)"
   ]
  },
  {
   "cell_type": "markdown",
   "id": "4d9092d2-5ab2-4425-83a1-82e1a1d10a35",
   "metadata": {},
   "source": [
    "#6. Write a code to perform basic string compression using the counts of repeated characters."
   ]
  },
  {
   "cell_type": "code",
   "execution_count": 82,
   "id": "3a0cb21a-c3a2-4305-9fd9-fcdcdbc7a8a0",
   "metadata": {},
   "outputs": [
    {
     "name": "stdin",
     "output_type": "stream",
     "text": [
      "Enter a string: aabbcd\n"
     ]
    },
    {
     "ename": "TypeError",
     "evalue": "'str' object is not callable",
     "output_type": "error",
     "traceback": [
      "\u001b[1;31m---------------------------------------------------------------------------\u001b[0m",
      "\u001b[1;31mTypeError\u001b[0m                                 Traceback (most recent call last)",
      "Cell \u001b[1;32mIn[82], line 8\u001b[0m\n\u001b[0;32m      6\u001b[0m         count\u001b[38;5;241m=\u001b[39mcount\u001b[38;5;241m+\u001b[39m\u001b[38;5;241m1\u001b[39m\n\u001b[0;32m      7\u001b[0m     \u001b[38;5;28;01melse\u001b[39;00m:\n\u001b[1;32m----> 8\u001b[0m         comp\u001b[38;5;241m.\u001b[39mappend(s[i\u001b[38;5;241m-\u001b[39m\u001b[38;5;241m1\u001b[39m]\u001b[38;5;241m+\u001b[39m\u001b[38;5;28;43mstr\u001b[39;49m\u001b[43m(\u001b[49m\u001b[43mcount\u001b[49m\u001b[43m)\u001b[49m)\n\u001b[0;32m      9\u001b[0m         count\u001b[38;5;241m=\u001b[39m\u001b[38;5;241m1\u001b[39m\n\u001b[0;32m     10\u001b[0m \u001b[38;5;28mprint\u001b[39m(comp)\n",
      "\u001b[1;31mTypeError\u001b[0m: 'str' object is not callable"
     ]
    }
   ],
   "source": [
    "s=input(\"Enter a string:\")\n",
    "comp=[]\n",
    "count=1\n",
    "for i in range(1,len(s)):\n",
    "    if s[i]==s[i-1]:\n",
    "        count=count+1\n",
    "    else:\n",
    "        comp.append(s[i-1]+str(count))\n",
    "        count=1\n",
    "print(comp)"
   ]
  },
  {
   "cell_type": "markdown",
   "id": "83107ff2-bd96-4fdb-8ace-1df05756ba52",
   "metadata": {},
   "source": [
    "#7. Write a code to determine if a string has all unique characters."
   ]
  },
  {
   "cell_type": "code",
   "execution_count": 21,
   "id": "96e243cd-9115-4593-b7ff-45c85fb6b7dc",
   "metadata": {},
   "outputs": [
    {
     "name": "stdin",
     "output_type": "stream",
     "text": [
      "Enter a string: abcdd\n"
     ]
    },
    {
     "name": "stdout",
     "output_type": "stream",
     "text": [
      "characters are not unique in  abcdd\n"
     ]
    }
   ],
   "source": [
    "str=input(\"Enter a string:\")\n",
    "uniq=\"\"\n",
    "for i in str:\n",
    "    if i not in uniq:\n",
    "        uniq+=i\n",
    "if str==uniq:\n",
    "    print(\"all characters are unique in \",str)\n",
    "else:\n",
    "    print(\"characters are not unique in \",str)"
   ]
  },
  {
   "cell_type": "markdown",
   "id": "1fa38a18-801d-4c8d-bc88-322ead6038bc",
   "metadata": {},
   "source": [
    "#8. Write a code to convert a given string to uppercase or lowercase."
   ]
  },
  {
   "cell_type": "code",
   "execution_count": 24,
   "id": "b6ef8a62-5896-4351-a8bd-2bf4bd8cae28",
   "metadata": {},
   "outputs": [
    {
     "name": "stdin",
     "output_type": "stream",
     "text": [
      "Enter a string: Hello\n"
     ]
    },
    {
     "name": "stdout",
     "output_type": "stream",
     "text": [
      "HELLO\n",
      "hello\n"
     ]
    }
   ],
   "source": [
    "str=input(\"Enter a string:\")\n",
    "print(str.upper())\n",
    "print(str.lower())"
   ]
  },
  {
   "cell_type": "markdown",
   "id": "a04ca55d-9aca-412e-aa5a-a3864fd59e25",
   "metadata": {},
   "source": [
    "#9.  Write a code to count the number of words in a string."
   ]
  },
  {
   "cell_type": "code",
   "execution_count": 26,
   "id": "fe36ffdd-0599-4440-9663-4dcdcd455d27",
   "metadata": {},
   "outputs": [
    {
     "name": "stdin",
     "output_type": "stream",
     "text": [
      "Enter a string: I am Anju and I am learning Data Science.\n"
     ]
    },
    {
     "name": "stdout",
     "output_type": "stream",
     "text": [
      "The given string contains  9 words.\n"
     ]
    }
   ],
   "source": [
    "str=input(\"Enter a string:\")\n",
    "count=1\n",
    "for i in str:\n",
    "    if i==\" \":\n",
    "        count=count+1\n",
    "print(\"The given string contains \",count,\"words.\")"
   ]
  },
  {
   "cell_type": "markdown",
   "id": "99586258-c2f7-4791-89ad-bcf0a0638a25",
   "metadata": {},
   "source": [
    "#10. Write a code to concatenate two strings without using the + operator."
   ]
  },
  {
   "cell_type": "code",
   "execution_count": 31,
   "id": "b87f62ed-1136-48ad-bfe4-d3af43f3c489",
   "metadata": {},
   "outputs": [
    {
     "name": "stdin",
     "output_type": "stream",
     "text": [
      "enter first string: cup\n",
      "enter second string: board\n"
     ]
    },
    {
     "name": "stdout",
     "output_type": "stream",
     "text": [
      "cupboard\n",
      "cupboard\n",
      "cupboard\n"
     ]
    }
   ],
   "source": [
    "str1=input(\"enter first string:\")\n",
    "str2=input(\"enter second string:\")\n",
    "print(f\"{str1}{str2}\")\n",
    "print(\"{}{}\".format(str1,str2))\n",
    "print(\"%s%s\"%(str1,str2))"
   ]
  },
  {
   "cell_type": "markdown",
   "id": "5d09bf4c-3340-4e5d-8ed5-030c4cfaf5db",
   "metadata": {},
   "source": [
    "#11. Write a code to remove all occurrences of a specific element from a list."
   ]
  },
  {
   "cell_type": "code",
   "execution_count": 35,
   "id": "30fb4ac1-4e1c-414b-a1bf-3b5c81339f0c",
   "metadata": {},
   "outputs": [
    {
     "name": "stdin",
     "output_type": "stream",
     "text": [
      "Enter element to remove: anu\n"
     ]
    },
    {
     "name": "stdout",
     "output_type": "stream",
     "text": [
      "[1, 2, 3, 6.4, 'ravi', 'rani']\n"
     ]
    }
   ],
   "source": [
    "list1=[1,2,3,6.4,\"anu\",\"ravi\",\"anu\",\"rani\",\"anu\"]\n",
    "element=input(\"Enter element to remove:\")\n",
    "res=[]\n",
    "for i in list1:\n",
    "    if i!=element:\n",
    "        res.append(i)\n",
    "print(res)"
   ]
  },
  {
   "cell_type": "markdown",
   "id": "44f6a4ba-de6d-45ce-b74e-83619a4bd988",
   "metadata": {},
   "source": [
    "#12. Implement a code to find the second largest number in a given list of integers."
   ]
  },
  {
   "cell_type": "code",
   "execution_count": 42,
   "id": "afddc150-23a7-47a1-9ef7-4a9d77e35f54",
   "metadata": {},
   "outputs": [
    {
     "name": "stdout",
     "output_type": "stream",
     "text": [
      "The second largest element in the list is 77\n"
     ]
    }
   ],
   "source": [
    "list1=[21,98,35,68,1,42,58,77,98,68]\n",
    "uniq_list=list(set(list1))\n",
    "uniq_list.sort()\n",
    "uniq_list\n",
    "print(\"The second largest element in the list is\",uniq_list[-2])"
   ]
  },
  {
   "cell_type": "markdown",
   "id": "2607933a-f6eb-4b7f-a8c0-e72284afd3d3",
   "metadata": {},
   "source": [
    "#13. Create a code to count the occurrences of each element in a list and return a dictionary with elements as keys and their counts as values."
   ]
  },
  {
   "cell_type": "code",
   "execution_count": 46,
   "id": "81d37825-4e99-448b-a051-2388814f2f05",
   "metadata": {},
   "outputs": [
    {
     "name": "stdout",
     "output_type": "stream",
     "text": [
      "{1: 3, 2: 2, 3: 2, 'rani': 1, 6.4: 2, 'anu': 3, 'ravi': 1}\n"
     ]
    }
   ],
   "source": [
    "list1=[1,2,3,6.4,\"anu\",1,\"ravi\",1,2,\"anu\",\"rani\",6.4,\"anu\",3]\n",
    "uniq=list(set(list1))\n",
    "dict1={}\n",
    "for i in uniq:\n",
    "    dict1[i]=list1.count(i)\n",
    "print(dict1)"
   ]
  },
  {
   "cell_type": "markdown",
   "id": "efdde4a7-2cbe-4f75-9415-dbc394c76c5c",
   "metadata": {},
   "source": [
    "#14. Write a code to reverse a list in-place without using any built-in reverse functions"
   ]
  },
  {
   "cell_type": "code",
   "execution_count": 49,
   "id": "d9a8a1d2-b0c9-4daa-99ab-a93d1f410876",
   "metadata": {},
   "outputs": [
    {
     "data": {
      "text/plain": [
       "['rani', True, 'ravi', (4+5j), 'anu', 6.4, 3, 2, 1]"
      ]
     },
     "execution_count": 49,
     "metadata": {},
     "output_type": "execute_result"
    }
   ],
   "source": [
    "list1=[1,2,3,6.4,\"anu\",(4+5j),\"ravi\",True,\"rani\"]\n",
    "temp=list1[:]\n",
    "n=len(list1)\n",
    "for i in range(n):\n",
    "    list1[i]=temp[n-i-1]\n",
    "list1"
   ]
  },
  {
   "cell_type": "markdown",
   "id": "400e9016-bb86-4521-845c-500b7252b507",
   "metadata": {},
   "source": [
    "#15. Implement a code to find and remove duplicates from a list while preserving the original order of elements."
   ]
  },
  {
   "cell_type": "code",
   "execution_count": 51,
   "id": "89116ddf-670a-4e0d-8571-7c34f3431599",
   "metadata": {},
   "outputs": [
    {
     "name": "stdout",
     "output_type": "stream",
     "text": [
      "[1, 2, 3, 4, 5]\n"
     ]
    }
   ],
   "source": [
    "list1=[1,3,2,2,1,4,5,3]\n",
    "list2=[]\n",
    "for i in list1:\n",
    "    if i not in list2:\n",
    "        list2.append(i)\n",
    "print(list2)"
   ]
  },
  {
   "cell_type": "markdown",
   "id": "2d7280d4-d112-4390-9607-590c9afa5c48",
   "metadata": {},
   "source": [
    "#16. Create a code to check if a given list is sorted (either in ascending or descending order) or not."
   ]
  },
  {
   "cell_type": "code",
   "execution_count": 55,
   "id": "65940a16-bd75-43d9-b0e5-bfac2f810d75",
   "metadata": {},
   "outputs": [
    {
     "name": "stdout",
     "output_type": "stream",
     "text": [
      "True\n"
     ]
    }
   ],
   "source": [
    "list1=[12,23,34,45,56,67,78]\n",
    "ascend=descend=True\n",
    "for i in range(1,len(list1)):\n",
    "    if list1[i]<list1[i-1]:\n",
    "        ascend=False\n",
    "    if list1[i]>list1[i-1]:\n",
    "        descend=False\n",
    "print(ascend or descend)"
   ]
  },
  {
   "cell_type": "markdown",
   "id": "4c7ab375-12a3-4269-a578-c90475daf79f",
   "metadata": {},
   "source": [
    "#17. Write a code to merge two sorted lists into a single sorted list."
   ]
  },
  {
   "cell_type": "code",
   "execution_count": 83,
   "id": "545b4dd2-1ee0-4ee9-aae6-fa5c159d2480",
   "metadata": {},
   "outputs": [
    {
     "name": "stdout",
     "output_type": "stream",
     "text": [
      "[1, 2, 3, 4, 5, 6, 7, 8]\n"
     ]
    }
   ],
   "source": [
    "list1=[1,3,5,7]\n",
    "list2=[2,4,6,8]\n",
    "merged_list=[]\n",
    "i=j=0\n",
    "while i<len(list1) and j<len(list2):\n",
    "    if list1[i]<list2[j]:\n",
    "        merged_list.append(list1[i])\n",
    "        i=i+1\n",
    "    else:\n",
    "        merged_list.append(list2[j])\n",
    "        j=j+1\n",
    "while i<len(list1):\n",
    "    merged_list.append(list1[i])\n",
    "    i=i+1\n",
    "while j<len(list2):\n",
    "    merged_list.append(list2[j])\n",
    "    j=j+1\n",
    "print(merged_list)"
   ]
  },
  {
   "cell_type": "markdown",
   "id": "f317910f-eb63-4979-bcf4-9cbc4abcfee8",
   "metadata": {},
   "source": [
    "#18. Implement a code to find the intersection of two given lists."
   ]
  },
  {
   "cell_type": "code",
   "execution_count": 58,
   "id": "3c7ac3c2-a6c3-4eb2-914b-a85f49249e73",
   "metadata": {},
   "outputs": [
    {
     "name": "stdout",
     "output_type": "stream",
     "text": [
      "['math', 'eng']\n"
     ]
    }
   ],
   "source": [
    "list1=[\"math\",\"sci\",\"hin\",\"eng\"]\n",
    "list2=[\"math\",\"sst\",\"tel\",\"eng\"]\n",
    "list3=[]\n",
    "for i in list1:\n",
    "    if i in list2:\n",
    "        list3.append(i)\n",
    "print(list3)"
   ]
  },
  {
   "cell_type": "markdown",
   "id": "13c76750-5362-4ae7-8135-93d7de39f9e7",
   "metadata": {},
   "source": [
    "#19. Create a code to find the union of two lists without duplicates."
   ]
  },
  {
   "cell_type": "code",
   "execution_count": 59,
   "id": "0ba60ca8-5c6f-4bcd-8ca7-283791e4f89d",
   "metadata": {},
   "outputs": [
    {
     "name": "stdout",
     "output_type": "stream",
     "text": [
      "['math', 'sci', 'hin', 'eng', 'sst', 'tel']\n"
     ]
    }
   ],
   "source": [
    "list1=[\"math\",\"sci\",\"hin\",\"eng\"]\n",
    "list2=[\"math\",\"sst\",\"tel\",\"eng\"]\n",
    "for i in list2:\n",
    "    if i not in list1:\n",
    "        list1.append(i)\n",
    "print(list1)"
   ]
  },
  {
   "cell_type": "markdown",
   "id": "05289dca-6006-4216-89a3-c6cbaf0a9f64",
   "metadata": {},
   "source": [
    "#20. Write a code to shuffle a given list randomly without using any built-in shuffle functions."
   ]
  },
  {
   "cell_type": "code",
   "execution_count": 85,
   "id": "cb76b0e4-4a69-434d-97b5-92cfd660ee92",
   "metadata": {},
   "outputs": [
    {
     "name": "stdout",
     "output_type": "stream",
     "text": [
      "Original List: [1, 2, 3, 4, 5, 6, 7, 8, 9]\n",
      "Shuffled List: [5, 1, 2, 9, 7, 6, 4, 3, 8]\n"
     ]
    }
   ],
   "source": [
    "import random\n",
    "def shuffle_list(arr):\n",
    "    for i in range(len(arr) - 1, 0, -1):\n",
    "        j = random.randint(0, i)\n",
    "        arr[i], arr[j] = arr[j], arr[i]\n",
    "my_list = [1, 2, 3, 4, 5, 6, 7, 8, 9]\n",
    "print(\"Original List:\", my_list)\n",
    "shuffle_list(my_list)\n",
    "print(\"Shuffled List:\", my_list)\n"
   ]
  },
  {
   "cell_type": "markdown",
   "id": "45d26476-dc38-4868-a693-1dcadd8208de",
   "metadata": {},
   "source": [
    "#21. Write a code that takes two tuples as input and returns a new tuple containing elements that are common to both input tuples."
   ]
  },
  {
   "cell_type": "code",
   "execution_count": 61,
   "id": "b4f33b8f-9105-4441-8344-588976556458",
   "metadata": {},
   "outputs": [
    {
     "name": "stdout",
     "output_type": "stream",
     "text": [
      "(3, 4, 5)\n"
     ]
    }
   ],
   "source": [
    "tup1=(1,2,3,4,5)\n",
    "tup1=set(tup1)\n",
    "tup2=(3,4,5,6,7)\n",
    "tup2=set(tup2)\n",
    "res=tup1 & tup2\n",
    "print(tuple(res))"
   ]
  },
  {
   "cell_type": "markdown",
   "id": "413677c8-1e64-4333-819e-0a299d9946a0",
   "metadata": {},
   "source": [
    "#22. Create a code that prompts the user to enter two sets of integers separated by commas. Then, print the intersection of these two sets."
   ]
  },
  {
   "cell_type": "code",
   "execution_count": 70,
   "id": "59ef1183-37eb-49a5-b82e-30e2c6e67ee2",
   "metadata": {},
   "outputs": [
    {
     "name": "stdin",
     "output_type": "stream",
     "text": [
      "enter first set of integers separated by commas: 1,2,3,4,5\n",
      "enter second set of integers separated by commas: 3,4,5,6,7\n"
     ]
    },
    {
     "name": "stdout",
     "output_type": "stream",
     "text": [
      "{3, 4, 5}\n"
     ]
    }
   ],
   "source": [
    "set1=input(\"enter first set of integers separated by commas:\")\n",
    "set2=input(\"enter second set of integers separated by commas:\")\n",
    "set1=set(map(int,set1.split(',')))\n",
    "set2=set(map(int,set2.split(',')))\n",
    "print(set1 & set2)"
   ]
  },
  {
   "cell_type": "markdown",
   "id": "ca9e2e3a-79db-43ab-a805-175a88749e88",
   "metadata": {},
   "source": [
    "#23. Write a code to concatenate two tuples. The function should take two tuples as input and return a new tuple containing elements from both input tuples."
   ]
  },
  {
   "cell_type": "code",
   "execution_count": 71,
   "id": "3e78e3a3-2ac0-4788-ae37-7ec7e540454d",
   "metadata": {},
   "outputs": [
    {
     "data": {
      "text/plain": [
       "(1, 2, 3, 4, 3, 4, 5)"
      ]
     },
     "execution_count": 71,
     "metadata": {},
     "output_type": "execute_result"
    }
   ],
   "source": [
    "def concatenate(tup1,tup2):\n",
    "    res=tup1+tup2\n",
    "    return res\n",
    "tuple1=(1,2,3,4)\n",
    "tuple2=(3,4,5)\n",
    "concatenate(tuple1,tuple2)"
   ]
  },
  {
   "cell_type": "markdown",
   "id": "447df205-bbbc-45f2-9384-a50923945b5d",
   "metadata": {},
   "source": [
    "#24. Develop a code that prompts the user to input two sets of strings. Then, print the elements that are present in the first set but not in the second set."
   ]
  },
  {
   "cell_type": "code",
   "execution_count": 86,
   "id": "fd5846b1-737b-4246-b2c0-f56e41e2ba35",
   "metadata": {},
   "outputs": [
    {
     "name": "stdin",
     "output_type": "stream",
     "text": [
      "Enter first set of strings separated by commas: one,two,three,four\n",
      "Enter second set of strings separated by commas: three,four,five,six\n"
     ]
    },
    {
     "name": "stdout",
     "output_type": "stream",
     "text": [
      "{'one', 'two'}\n"
     ]
    }
   ],
   "source": [
    "set1=input(\"Enter first set of strings separated by commas:\")\n",
    "set2=input(\"Enter second set of strings separated by commas:\")\n",
    "set1=set(set1.split(','))\n",
    "set2=set(set2.split(','))\n",
    "print(set1-set2)"
   ]
  },
  {
   "cell_type": "markdown",
   "id": "a190d53b-4c01-491f-b1cf-e571593906c3",
   "metadata": {},
   "source": [
    "#25. Create a code that takes a tuple and two integers as input. The function should return a new tuple containing elements from the original tuple within the specified range of indices."
   ]
  },
  {
   "cell_type": "code",
   "execution_count": 90,
   "id": "25d703af-6563-496f-8079-217123ac2ef4",
   "metadata": {},
   "outputs": [
    {
     "name": "stdin",
     "output_type": "stream",
     "text": [
      "enter starting index: 1\n",
      "enter ending index: 4\n"
     ]
    },
    {
     "data": {
      "text/plain": [
       "(23, 34, 45)"
      ]
     },
     "execution_count": 90,
     "metadata": {},
     "output_type": "execute_result"
    }
   ],
   "source": [
    "def slice_tuple(tup,start,end):\n",
    "    return tup[start:end]\n",
    "tuple1=(12,23,34,45,56,67,78,89)\n",
    "start_index=int(input(\"enter starting index:\"))\n",
    "end_index=int(input(\"enter ending index:\"))\n",
    "slice_tuple(tuple1,start_index,end_index)"
   ]
  },
  {
   "cell_type": "markdown",
   "id": "7c436d60-c1cc-4f19-b882-19240f836ee5",
   "metadata": {},
   "source": [
    "#26. Write a code that prompts the user to input two sets of characters. Then, print the union of these two sets."
   ]
  },
  {
   "cell_type": "code",
   "execution_count": 92,
   "id": "eb5e1a04-e4e7-42f9-86f7-25da18bc80c9",
   "metadata": {},
   "outputs": [
    {
     "name": "stdin",
     "output_type": "stream",
     "text": [
      "Enter first set of characters separated by commas: a,b,c,d,e,f\n",
      "Enter second set of characters separated by commas: e,f,a,g,h,i\n"
     ]
    },
    {
     "name": "stdout",
     "output_type": "stream",
     "text": [
      "{'d', 'g', 'i', 'a', 'e', 'b', 'c', 'f', 'h'}\n"
     ]
    }
   ],
   "source": [
    "set1=input(\"Enter first set of characters separated by commas:\")\n",
    "set2=input(\"Enter second set of characters separated by commas:\")\n",
    "set1=set(set1.split(','))\n",
    "set2=set(set2.split(','))\n",
    "print(set1|set2)"
   ]
  },
  {
   "cell_type": "markdown",
   "id": "11385247-488f-4f67-80c8-15745bfb1e7c",
   "metadata": {},
   "source": [
    "#27. Develop a code that takes a tuple of integers as input. The function should return the maximum and minimum values from the tuple using tuple unpacking"
   ]
  },
  {
   "cell_type": "code",
   "execution_count": 94,
   "id": "5af57ff0-9d9d-473a-a273-ab28f09ee395",
   "metadata": {},
   "outputs": [
    {
     "name": "stdout",
     "output_type": "stream",
     "text": [
      "minimum value is11 and maximum value is98\n"
     ]
    }
   ],
   "source": [
    "#Tuple unpacking refers to the process of assigning individual elements of a tuple to multiple variables in a single statement. \n",
    "def find_min_max(tup):\n",
    "    min_val,max_val=min(tup),max(tup)\n",
    "    return min_val,max_val\n",
    "tuple1=(12,98,67,88,34,56,11,23)\n",
    "min_val,max_val=find_min_max(tuple1)\n",
    "print(f\"minimum value is {min_val} and maximum value is {max_val}\")"
   ]
  },
  {
   "cell_type": "markdown",
   "id": "38c1fab2-fc16-4661-954e-804e7fdc7be0",
   "metadata": {},
   "source": [
    "#28.  Create a code that defines two sets of integers. Then, print the union, intersection, and difference of these two sets"
   ]
  },
  {
   "cell_type": "code",
   "execution_count": 95,
   "id": "64a109f7-6f8e-4629-9cba-78307b724ce3",
   "metadata": {},
   "outputs": [
    {
     "name": "stdin",
     "output_type": "stream",
     "text": [
      "Enter first set of integers separated by commas: 1,2,3,4,5\n",
      "Enter second set of integers separated by commas: 3,4,5,6,7,8\n"
     ]
    },
    {
     "name": "stdout",
     "output_type": "stream",
     "text": [
      "{'1', '4', '8', '6', '2', '7', '5', '3'}\n",
      "{'5', '4', '3'}\n",
      "{'1', '2'}\n"
     ]
    }
   ],
   "source": [
    "set1=input(\"Enter first set of integers separated by commas:\")\n",
    "set2=input(\"Enter second set of integers separated by commas:\")\n",
    "set1=set(set1.split(','))\n",
    "set2=set(set2.split(','))\n",
    "print(set1|set2)\n",
    "print(set1&set2)\n",
    "print(set1-set2)"
   ]
  },
  {
   "cell_type": "markdown",
   "id": "8e492b8f-70a9-4eca-ae87-fa1ae3c6e6e3",
   "metadata": {},
   "source": [
    "#29. Write a code that takes a tuple and an element as input. The function should return the count of occurrences of the given element in the tuple"
   ]
  },
  {
   "cell_type": "code",
   "execution_count": 96,
   "id": "026c7378-17bb-461d-b2e5-64a3c1ed8914",
   "metadata": {},
   "outputs": [
    {
     "name": "stdin",
     "output_type": "stream",
     "text": [
      "Enter the element to count: 3\n"
     ]
    },
    {
     "data": {
      "text/plain": [
       "3"
      ]
     },
     "execution_count": 96,
     "metadata": {},
     "output_type": "execute_result"
    }
   ],
   "source": [
    "tup=(1,2,3,4,5,4,3,2,3)\n",
    "element=int(input(\"Enter the element to count:\"))\n",
    "tup.count(element)"
   ]
  },
  {
   "cell_type": "markdown",
   "id": "60a4eea0-7be1-4f87-89b7-1fde333c05ec",
   "metadata": {},
   "source": [
    "#30.  Develop a code that prompts the user to input two sets of strings. Then, print the symmetric difference of these two sets"
   ]
  },
  {
   "cell_type": "code",
   "execution_count": 97,
   "id": "b92d40f6-d26d-4e98-ae55-997dd13114e9",
   "metadata": {},
   "outputs": [
    {
     "name": "stdin",
     "output_type": "stream",
     "text": [
      "Enter first set of strings separated by commas: 1,2,3,4,5\n",
      "Enter second set of strings separated by commas: 3,4,5,6,7\n"
     ]
    },
    {
     "name": "stdout",
     "output_type": "stream",
     "text": [
      "{'1', '6', '2', '7'}\n"
     ]
    }
   ],
   "source": [
    "set1=input(\"Enter first set of strings separated by commas:\")\n",
    "set2=input(\"Enter second set of strings separated by commas:\")\n",
    "set1=set(set1.split(','))\n",
    "set2=set(set2.split(','))\n",
    "print(set1^set2)"
   ]
  },
  {
   "cell_type": "markdown",
   "id": "cee3de30-5288-476d-9921-0825af5c00f3",
   "metadata": {},
   "source": [
    "#31. Write a code that takes a list of words as input and returns a dictionary where the keys are unique words and the values are the frequencies of those words in the input list."
   ]
  },
  {
   "cell_type": "code",
   "execution_count": 100,
   "id": "a9c92adb-3da8-4635-bac7-6dac997f76ea",
   "metadata": {},
   "outputs": [
    {
     "name": "stdout",
     "output_type": "stream",
     "text": [
      "{'two': 2, 'one': 2, 'four': 3, 'five': 1, 'three': 1, 'six': 2}\n"
     ]
    }
   ],
   "source": [
    "list1=[\"one\",\"two\",\"three\",\"one\",\"four\",\"two\",\"four\",\"five\",\"six\",\"six\",\"four\"]\n",
    "list2=list(set(list1))\n",
    "dict1={}\n",
    "for i in list2:\n",
    "    dict1[i]=list1.count(i)\n",
    "print(dict1)"
   ]
  },
  {
   "cell_type": "markdown",
   "id": "dad04c25-b335-4be7-957c-161b56737515",
   "metadata": {},
   "source": [
    "#32. Write a code that takes two dictionaries as input and merges them into a single dictionary. If there are common keys, the values should be added together."
   ]
  },
  {
   "cell_type": "code",
   "execution_count": 101,
   "id": "f36756cb-5282-4933-a6cf-335fdedb4cb4",
   "metadata": {},
   "outputs": [
    {
     "name": "stdout",
     "output_type": "stream",
     "text": [
      "Merged Dictionary: {'a': 10, 'b': 35, 'c': 55, 'd': 5}\n"
     ]
    }
   ],
   "source": [
    "def merge_dictionaries(dict1, dict2):\n",
    "    merged_dict = {}\n",
    "    for key, value in dict1.items():\n",
    "        if key in merged_dict:\n",
    "            merged_dict[key] += value\n",
    "        else:\n",
    "            merged_dict[key] = value\n",
    "    for key, value in dict2.items():\n",
    "        if key in merged_dict:\n",
    "            merged_dict[key] += value\n",
    "        else:\n",
    "            merged_dict[key] = value\n",
    "    return merged_dict\n",
    "dict1 = {'a': 10, 'b': 20, 'c': 30}\n",
    "dict2 = {'b': 15, 'c': 25, 'd': 5}\n",
    "merged = merge_dictionaries(dict1, dict2)\n",
    "print(\"Merged Dictionary:\", merged)"
   ]
  },
  {
   "cell_type": "markdown",
   "id": "9e069df9-093b-42bc-87ce-5d1bc6894f49",
   "metadata": {},
   "source": [
    "#33. Write a code to access a value in a nested dictionary. The function should take the dictionary and a list of keys as input, and return the corresponding value. If any of the keys do not exist in the dictionary, the function should return None. "
   ]
  },
  {
   "cell_type": "code",
   "execution_count": 105,
   "id": "eccfa437-e482-49fc-8c6a-d239eeca5870",
   "metadata": {},
   "outputs": [
    {
     "name": "stdout",
     "output_type": "stream",
     "text": [
      "Value: 10\n",
      "Value: None\n"
     ]
    }
   ],
   "source": [
    "def get_nested_value(d, keys):\n",
    "    current_value = d\n",
    "    for key in keys:\n",
    "        if isinstance(current_value, dict) and key in current_value:\n",
    "            current_value = current_value[key]\n",
    "        else:\n",
    "            return None\n",
    "    return current_value\n",
    "nested_dict = {'a': {'b': {'c': 10}}}\n",
    "keys = ['a', 'b', 'c']\n",
    "value = get_nested_value(nested_dict, keys)\n",
    "print(\"Value:\", value)\n",
    "keys = ['a', 'b', 'd']\n",
    "value = get_nested_value(nested_dict, keys)\n",
    "print(\"Value:\", value)"
   ]
  },
  {
   "cell_type": "markdown",
   "id": "2e97c02b-29ae-4f84-beab-5bc7693e8289",
   "metadata": {},
   "source": [
    "#34. Write a code that takes a dictionary as input and returns a sorted version of it based on the values. You \n",
    "can choose whether to sort in ascending or descending order."
   ]
  },
  {
   "cell_type": "code",
   "execution_count": 103,
   "id": "e1f21f91-a100-4b07-ad86-6a5315587f82",
   "metadata": {},
   "outputs": [
    {
     "name": "stdout",
     "output_type": "stream",
     "text": [
      "Sorted Dictionary (Ascending): {'banana': 5, 'cherry': 7, 'apple': 10}\n",
      "Sorted Dictionary (Descending): {'apple': 10, 'cherry': 7, 'banana': 5}\n"
     ]
    }
   ],
   "source": [
    "def sort_dict_by_values(d, ascending=True):\n",
    "    sorted_dict = dict(sorted(d.items(), key=lambda item: item[1], reverse=not ascending))\n",
    "    return sorted_dict\n",
    "my_dict = {'apple': 10, 'banana': 5, 'cherry': 7}\n",
    "sorted_dict_asc = sort_dict_by_values(my_dict, ascending=True)\n",
    "print(\"Sorted Dictionary (Ascending):\", sorted_dict_asc)\n",
    "sorted_dict_desc = sort_dict_by_values(my_dict, ascending=False)\n",
    "print(\"Sorted Dictionary (Descending):\", sorted_dict_desc)"
   ]
  },
  {
   "cell_type": "markdown",
   "id": "f36cdd63-b581-4d89-a9c6-740069355e47",
   "metadata": {},
   "source": [
    "#35. Write a code that inverts a dictionary, swapping keys and values. Ensure that the inverted dictionary correctly handles cases where multiple keys have the same value by storing the keys as a list in the inverted dictionary."
   ]
  },
  {
   "cell_type": "code",
   "execution_count": 104,
   "id": "6b8fd4b8-2104-45b2-b204-c5e8bffa04ae",
   "metadata": {},
   "outputs": [
    {
     "name": "stdout",
     "output_type": "stream",
     "text": [
      "Inverted Dictionary: {1: ['a', 'c'], 2: ['b'], 3: ['d']}\n"
     ]
    }
   ],
   "source": [
    "def invert_dictionary(d):\n",
    "    inverted_dict = {}\n",
    "    for key, value in d.items():\n",
    "        if value in inverted_dict:\n",
    "            inverted_dict[value].append(key)\n",
    "        else:\n",
    "            inverted_dict[value] = [key]\n",
    "    return inverted_dict\n",
    "original_dict = {'a': 1,'b': 2,'c': 1,'d': 3}\n",
    "inverted = invert_dictionary(original_dict)\n",
    "print(\"Inverted Dictionary:\", inverted)"
   ]
  },
  {
   "cell_type": "code",
   "execution_count": null,
   "id": "c85a603a-d62c-4891-82c3-8a0a10cca02b",
   "metadata": {},
   "outputs": [],
   "source": []
  }
 ],
 "metadata": {
  "kernelspec": {
   "display_name": "Python 3 (ipykernel)",
   "language": "python",
   "name": "python3"
  },
  "language_info": {
   "codemirror_mode": {
    "name": "ipython",
    "version": 3
   },
   "file_extension": ".py",
   "mimetype": "text/x-python",
   "name": "python",
   "nbconvert_exporter": "python",
   "pygments_lexer": "ipython3",
   "version": "3.12.6"
  }
 },
 "nbformat": 4,
 "nbformat_minor": 5
}
